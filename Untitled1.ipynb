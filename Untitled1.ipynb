{
 "cells": [
  {
   "cell_type": "markdown",
   "metadata": {},
   "source": [
    "# Q1. In the below elements which of them are values or an expression? eg:- values can be integer or string and expressions will be mathematical operators."
   ]
  },
  {
   "cell_type": "markdown",
   "metadata": {},
   "source": [
    "  *  - Expression\n",
    "  'hello' - String value\n",
    "  -87.8 - Integer value\n",
    "  -  - Expression\n",
    "  /  - Expression\n",
    "  6  - Integer value"
   ]
  },
  {
   "cell_type": "markdown",
   "metadata": {},
   "source": [
    "# Q2. What is the difference between string and variable?"
   ]
  },
  {
   "cell_type": "markdown",
   "metadata": {},
   "source": [
    "  String - Sting is a data type to store the sequence of characters. Strings are immutable. This means that once defined, they cannot be changed.\n",
    "  Variable- Variables are nothing but reserved memory locations to store values."
   ]
  },
  {
   "cell_type": "markdown",
   "metadata": {},
   "source": [
    " # Q3. Describe three different data types."
   ]
  },
  {
   "cell_type": "markdown",
   "metadata": {},
   "source": [
    "  a. Integers- Integer literals are created by any number without a decimal or complex component.\n",
    "  b. Float - Float literals can be created by adding a decimal component to a number.\n",
    "  c. Complex- Complex literals can be created by using the notation x + yj where x is the real component and y is the imaginary component"
   ]
  },
  {
   "cell_type": "markdown",
   "metadata": {},
   "source": [
    "# Q4. What is an expression made up of? What do all expressions do?"
   ]
  },
  {
   "cell_type": "markdown",
   "metadata": {},
   "source": [
    "Ans. An expression is a combination of values, variables, operators, and calls to functions. Expressions need to be evaluated."
   ]
  },
  {
   "cell_type": "markdown",
   "metadata": {},
   "source": [
    "# Q5. This assignment statements, like spam = 10. What is the difference between an expression and a statement?"
   ]
  },
  {
   "cell_type": "markdown",
   "metadata": {},
   "source": [
    "ans. Statements represent an action or command e.g print statements, assignment statements. Expression is a combination of variables, operations and values that yields a result value.\n"
   ]
  },
  {
   "cell_type": "markdown",
   "metadata": {},
   "source": [
    "# Q6. After running the following code, what does the variable bacon contain?"
   ]
  },
  {
   "cell_type": "markdown",
   "metadata": {},
   "source": [
    "bacon = 22\n",
    "bacon + 1\n",
    "  ans. 23"
   ]
  },
  {
   "cell_type": "markdown",
   "metadata": {},
   "source": [
    "# Q7. What should the values of the following two terms be?"
   ]
  },
  {
   "cell_type": "markdown",
   "metadata": {},
   "source": [
    "  'spam' + 'spamspam' = 'spamspamspam'\n",
    "  'spam' * 3 =  'spamspamspam'"
   ]
  },
  {
   "cell_type": "markdown",
   "metadata": {},
   "source": [
    "# Q8. Why is eggs a valid variable name while 100 is invalid? "
   ]
  },
  {
   "cell_type": "markdown",
   "metadata": {},
   "source": [
    "ans. Variable name can contain both letters and digits, but they have to begin with a letter or an underscore, that is why eggs is a variable and 100 is not a variable."
   ]
  },
  {
   "cell_type": "markdown",
   "metadata": {},
   "source": [
    "# Q9. What three functions can be used to get the integer, floating-point number, or string version of a value?"
   ]
  },
  {
   "cell_type": "markdown",
   "metadata": {},
   "source": [
    "  ans. Integer - int(), floatig point number- float(), String version-str()"
   ]
  },
  {
   "cell_type": "markdown",
   "metadata": {},
   "source": [
    "# Q10. Why does this expression cause an error? How can you fix it?\n",
    "'I have eaten ' + 99 + ' burritos.'"
   ]
  },
  {
   "cell_type": "markdown",
   "metadata": {},
   "source": [
    "  ans. we can only concatenate str (not \"int\") to str. and here 99 is a integer value.\n",
    "       Fix is 'I have eaten ' + '99' + ' burritos.' that means keep 99 as a string."
   ]
  },
  {
   "cell_type": "code",
   "execution_count": null,
   "metadata": {},
   "outputs": [],
   "source": []
  }
 ],
 "metadata": {
  "kernelspec": {
   "display_name": "Python 3",
   "language": "python",
   "name": "python3"
  },
  "language_info": {
   "codemirror_mode": {
    "name": "ipython",
    "version": 3
   },
   "file_extension": ".py",
   "mimetype": "text/x-python",
   "name": "python",
   "nbconvert_exporter": "python",
   "pygments_lexer": "ipython3",
   "version": "3.8.5"
  }
 },
 "nbformat": 4,
 "nbformat_minor": 4
}
